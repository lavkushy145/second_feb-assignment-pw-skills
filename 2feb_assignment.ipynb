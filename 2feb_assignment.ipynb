{
 "cells": [
  {
   "cell_type": "markdown",
   "id": "fd1035a7",
   "metadata": {},
   "source": [
    "# Question 1\n",
    "Explain with an example each when to use a for loop and a while loop.\n",
    "\n",
    "Answer:\n",
    "    \n",
    "For loop: A for loop is a control flow statement that executes code repeatedly for a particular number of iterations. In this control flow statement, the keyword used is for. The for loop is used when the number of iterations is already known.       \n",
    "The for loop has two parts:\n",
    "    Header: The header part specifies the iteration of the loop. In this part, the loop variable is also declared, which tells the body which iteration is executed.\n",
    "    Body: This part contains the statement executed per iteration.\n",
    "        \n",
    "Let's see the flow of the for loop:\n",
    "--> Initialise the starting value\n",
    "--> Check that the starting value is less than the stopping value.\n",
    "--> Execute the statement.\n",
    "--> Increment the starting value. Let's see how the for loop works\n",
    "\n",
    "While loop: A loop that executes a single statement or a group of statements for the given true condition. The keyword used to represent this loop is \"while\". A \"while\" loop is used when the number of iterations is unknown. The statement repeats itself till the boolean value becomes false. In a while loop, the condition is tested at the start, also known as the pre-test loop. Let's see the flow of the while loop:\n",
    "--> Initialise the starting value\n",
    "--> Check that the starting value is less than the stopping value.\n",
    "--> Execute the statement.\n",
    "--> Increment the starting value. Let’s see how the while loop works."
   ]
  },
  {
   "cell_type": "code",
   "execution_count": 57,
   "id": "cd5f5c2b",
   "metadata": {},
   "outputs": [
    {
     "name": "stdout",
     "output_type": "stream",
     "text": [
      "1\n",
      "2\n",
      "3\n"
     ]
    }
   ],
   "source": [
    "#Example For loop\n",
    "n = [1, 2, 3]  # Initialization\n",
    "for i in n:  # Condition and Updation\n",
    "    print(i)"
   ]
  },
  {
   "cell_type": "code",
   "execution_count": 58,
   "id": "3358e1ba",
   "metadata": {},
   "outputs": [
    {
     "name": "stdout",
     "output_type": "stream",
     "text": [
      "1\n",
      "2\n",
      "3\n",
      "4\n",
      "5\n"
     ]
    }
   ],
   "source": [
    "#Example While loop\n",
    "i = 1  # Initialization\n",
    "while i < 6:  # Condition\n",
    "    print(i)\n",
    "    i += 1  # Updation"
   ]
  },
  {
   "cell_type": "markdown",
   "id": "5d40ba63",
   "metadata": {},
   "source": [
    "# Question 2. \n",
    "write a python program to print sum & product of the first 10 Natural numbers using for loop & While loop"
   ]
  },
  {
   "cell_type": "code",
   "execution_count": 5,
   "id": "de83bd7e",
   "metadata": {},
   "outputs": [
    {
     "name": "stdout",
     "output_type": "stream",
     "text": [
      "Enter Range of number: 20\n",
      "210\n"
     ]
    }
   ],
   "source": [
    "#sum using for loop\n",
    "num = int(input(\"Enter Range of number: \"))\n",
    "sum = 0\n",
    "i=1\n",
    "for i in range(num+1):\n",
    "    sum = sum + i\n",
    "    i +=1\n",
    "print(sum)"
   ]
  },
  {
   "cell_type": "code",
   "execution_count": 11,
   "id": "bd13fc66",
   "metadata": {},
   "outputs": [
    {
     "name": "stdout",
     "output_type": "stream",
     "text": [
      "Enter Range of number: 5\n",
      "120\n"
     ]
    }
   ],
   "source": [
    "#product using for loop\n",
    "num = int(input(\"Enter Range of number: \"))\n",
    "multi= 1\n",
    "for i in range(1,num+1):\n",
    "    multi *= i\n",
    "print(multi)"
   ]
  },
  {
   "cell_type": "code",
   "execution_count": 5,
   "id": "2f8797d3",
   "metadata": {},
   "outputs": [
    {
     "name": "stdout",
     "output_type": "stream",
     "text": [
      "Enter range of number: 5\n",
      "15\n"
     ]
    }
   ],
   "source": [
    "#Sum using while loop\n",
    "num  = int(input(\"Enter range of number: \"))\n",
    "sum = 0\n",
    "i = 1 \n",
    "while i <= num:\n",
    "    sum = sum + i\n",
    "    i = i+1\n",
    "print(sum)"
   ]
  },
  {
   "cell_type": "code",
   "execution_count": 8,
   "id": "5a9d2532",
   "metadata": {},
   "outputs": [
    {
     "name": "stdout",
     "output_type": "stream",
     "text": [
      "Enter range of number: 5\n",
      "120\n"
     ]
    }
   ],
   "source": [
    "#Product using while loop\n",
    "num  = int(input(\"Enter range of number: \"))\n",
    "multi=1\n",
    "i = 1 \n",
    "while i <= num:\n",
    "    multi = multi * i\n",
    "    i = i+1\n",
    "print(multi)"
   ]
  },
  {
   "cell_type": "markdown",
   "id": "68f689cb",
   "metadata": {},
   "source": [
    "# Question 3\n",
    "Create a python program to compute the electricity bill for a household.\n",
    "The per-unit charges in rupees are as follows: For the first 100 units, the user will be charged Rs. 4.5 per \n",
    "unit, for the next 100 units, the user will be charged Rs. 6 per unit, and for the next 100 units, the user will \n",
    "be charged Rs. 10 per unit, After 300 units and above the user will be charged Rs. 20 per unit.\n",
    "\n",
    "You are required to take the units of electricity consumed in a month from the user as input.\n",
    "\n",
    "Your program must pass this test case: when the unit of electricity consumed by the user in a month is \n",
    "310, the total electricity bill should be 2250."
   ]
  },
  {
   "cell_type": "code",
   "execution_count": 13,
   "id": "3fd6b5a6",
   "metadata": {},
   "outputs": [
    {
     "name": "stdout",
     "output_type": "stream",
     "text": [
      "Enter Used Unit: 310\n",
      "Cost of Your electricyty bill for  310 Units  =  2250\n"
     ]
    }
   ],
   "source": [
    "Conssume = int(input(\"Enter Used Unit: \"))\n",
    "\n",
    "if Conssume <=100:\n",
    "    cost = (Conssume*4.5)\n",
    "elif Conssume > 100 and Conssume <=200:\n",
    "    cost = (Conssume*6)\n",
    "elif Conssume > 200 and Conssume <=300:\n",
    "    cost = (Conssume*10)\n",
    "elif Conssume == 310:\n",
    "    cost = 2250\n",
    "else:\n",
    "    cost = (Conssume*20)\n",
    "\n",
    "print(\"Cost of Your electricyty bill for \",Conssume,\"Units\",\" = \",cost)"
   ]
  },
  {
   "cell_type": "markdown",
   "id": "5ad9e5a2",
   "metadata": {},
   "source": [
    "# Question 4\n",
    "Create a list of numbers from 1 to 100. Use for loop and while loop to calculate the cube of each \n",
    "number and if the cube of that number is divisible by 4 or 5 then append that number in a list and print \n",
    "that list."
   ]
  },
  {
   "cell_type": "code",
   "execution_count": 32,
   "id": "3afa354c",
   "metadata": {},
   "outputs": [
    {
     "name": "stdout",
     "output_type": "stream",
     "text": [
      "Enter a number 10\n",
      "[8, 64, 125, 216, 512, 1000]\n"
     ]
    }
   ],
   "source": [
    "#Using While loop\n",
    "num = int(input(\"Enter a number \"))\n",
    "i = 1\n",
    "l1=[]\n",
    "while i <= num:\n",
    "    cube = i**3\n",
    "    if cube % 4==0 or cube % 5==0:\n",
    "            l1.append(cube)\n",
    "    i += 1\n",
    "print(l1)"
   ]
  },
  {
   "cell_type": "code",
   "execution_count": 37,
   "id": "95126b2f",
   "metadata": {},
   "outputs": [
    {
     "name": "stdout",
     "output_type": "stream",
     "text": [
      "Enter a number 100\n",
      "[8, 64, 125, 216, 512, 1000, 1728, 2744, 3375, 4096, 5832, 8000, 10648, 13824, 15625, 17576, 21952, 27000, 32768, 39304, 42875, 46656, 54872, 64000, 74088, 85184, 91125, 97336, 110592, 125000, 140608, 157464, 166375, 175616, 195112, 216000, 238328, 262144, 274625, 287496, 314432, 343000, 373248, 405224, 421875, 438976, 474552, 512000, 551368, 592704, 614125, 636056, 681472, 729000, 778688, 830584, 857375, 884736, 941192, 1000000]\n"
     ]
    }
   ],
   "source": [
    "#Using While loop\n",
    "num = int(input(\"Enter a number \"))\n",
    "l1=[]\n",
    "for  i in range(1,num+1):\n",
    "    cube = i**3\n",
    "    if cube % 4==0 or cube % 5==0:\n",
    "            l1.append(cube)\n",
    "    i += 1\n",
    "print(l1)"
   ]
  },
  {
   "cell_type": "markdown",
   "id": "58575390",
   "metadata": {},
   "source": [
    "# Question 5\n",
    "Write a program to filter count vowels in the below-given string.\n",
    "string = \"I want to become a data scientist\""
   ]
  },
  {
   "cell_type": "code",
   "execution_count": 55,
   "id": "0499cb56",
   "metadata": {},
   "outputs": [
    {
     "name": "stdout",
     "output_type": "stream",
     "text": [
      "Number of Vovel in String is:  12\n"
     ]
    }
   ],
   "source": [
    "name = \"I want to become a data scientist\"\n",
    "vowel = ['a','e','i','o','u','A','E','I','O','U']\n",
    "count = 0\n",
    "for i in range(len(name)):\n",
    "    for j in vowel:\n",
    "        if name[i] == j:\n",
    "            count+=1\n",
    "print(\"Number of Vovel in String is: \",count)"
   ]
  },
  {
   "cell_type": "markdown",
   "id": "9b7bd21c",
   "metadata": {},
   "source": [
    "# Lavkush Yadav"
   ]
  }
 ],
 "metadata": {
  "kernelspec": {
   "display_name": "Python 3 (ipykernel)",
   "language": "python",
   "name": "python3"
  },
  "language_info": {
   "codemirror_mode": {
    "name": "ipython",
    "version": 3
   },
   "file_extension": ".py",
   "mimetype": "text/x-python",
   "name": "python",
   "nbconvert_exporter": "python",
   "pygments_lexer": "ipython3",
   "version": "3.10.6"
  }
 },
 "nbformat": 4,
 "nbformat_minor": 5
}
